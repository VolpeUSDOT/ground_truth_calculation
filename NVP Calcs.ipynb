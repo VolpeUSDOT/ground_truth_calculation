{
 "cells": [
  {
   "cell_type": "code",
   "execution_count": 1,
   "id": "5ce8c394",
   "metadata": {},
   "outputs": [],
   "source": [
    "# Import necessary modules\n",
    "import geopandas as gpd\n",
    "from shapely.geometry import Polygon, mapping\n",
    "import json\n",
    "import pandas as pd\n",
    "import math\n",
    "import matplotlib.pyplot as plt\n",
    "import numpy as np\n",
    "\n",
    "from helper_functions import cart_to_polar, get_intersection\n",
    "from data_processing import load_data, plot_data, get_left_and_right_bound, trim_datasets\n",
    "from helper_functions import get_area, get_distance\n"
   ]
  },
  {
   "cell_type": "code",
   "execution_count": 2,
   "id": "5191623c",
   "metadata": {},
   "outputs": [],
   "source": [
    "# Set filepath\n",
    "datafile = r\"C:\\Users\\Eric.Englin\\DOT OST\\VIEW - MassDOT\\Data Collection\\shapefiles\\FordF450_2015.shp\"\n",
    "\n",
    "# Read file using gpd.read_file()\n",
    "data = gpd.read_file(datafile)\n",
    "poly_mapped = mapping(data)\n",
    "poly_coordinates = poly_mapped['features'][0]['geometry']['coordinates'][0]\n",
    "#coords = [coords[0,1] for coords in poly_coordinates]\n",
    "lats = [coords[1] for coords in poly_coordinates]\n",
    "lons = [coords[0] for coords in poly_coordinates]\n",
    "\n",
    "df = pd.DataFrame({\n",
    "    'lat':lats,\n",
    "    'lon':lons})"
   ]
  },
  {
   "cell_type": "code",
   "execution_count": 3,
   "id": "e0f85172",
   "metadata": {},
   "outputs": [],
   "source": [
    "degree_list = []\n",
    "distance_list = []\n",
    "for x in range(len(df)):\n",
    "    lat=(df['lat'][x])\n",
    "    lon=(df['lon'][x])\n",
    "    hyp = math.hypot(lat, lon)\n",
    "    if lon >0:\n",
    "        degree = 90- math.degrees(math.atan(lat/lon))\n",
    "    else:\n",
    "        degree = -90+ math.degrees(math.atan(lat/-lon))\n",
    "    degree_list.append(degree)\n",
    "    distance_list.append(hyp)\n",
    "    \n",
    "\n",
    "df['distance'] = distance_list \n",
    "df['degree']=degree_list"
   ]
  },
  {
   "cell_type": "code",
   "execution_count": 4,
   "id": "9fc4de95",
   "metadata": {
    "scrolled": true
   },
   "outputs": [
    {
     "data": {
      "text/plain": [
       "<matplotlib.collections.PathCollection at 0x2957bbd7310>"
      ]
     },
     "execution_count": 4,
     "metadata": {},
     "output_type": "execute_result"
    },
    {
     "data": {
      "image/png": "[encoded data removed]",
      "text/plain": [
       "<Figure size 432x288 with 1 Axes>"
      ]
     },
     "metadata": {
      "needs_background": "light"
     },
     "output_type": "display_data"
    }
   ],
   "source": [
    "plt.scatter(df.degree, df.distance)"
   ]
  },
  {
   "cell_type": "code",
   "execution_count": 5,
   "id": "5270af5d",
   "metadata": {},
   "outputs": [
    {
     "data": {
      "text/plain": [
       "103    8.206994\n",
       "104    8.329086\n",
       "Name: distance, dtype: float64"
      ]
     },
     "execution_count": 5,
     "metadata": {},
     "output_type": "execute_result"
    }
   ],
   "source": [
    "val =0\n",
    "df.loc[(df['degree']>val-1)&(df['degree']<val+1)]['distance']"
   ]
  },
  {
   "cell_type": "code",
   "execution_count": 6,
   "id": "7a59278d",
   "metadata": {},
   "outputs": [
    {
     "data": {
      "text/plain": [
       "8.268040130508401"
      ]
     },
     "execution_count": 6,
     "metadata": {},
     "output_type": "execute_result"
    }
   ],
   "source": [
    "np.average(df.loc[(df['degree']>val-1)&(df['degree']<val+1)]['distance'])"
   ]
  },
  {
   "cell_type": "code",
   "execution_count": 7,
   "id": "786104d7",
   "metadata": {},
   "outputs": [],
   "source": [
    "val =0\n",
    "dist = np.average(df.loc[(df['degree']>val-1)&(df['degree']<val+1)]['distance'])\n",
    "z = 1.58"
   ]
  },
  {
   "cell_type": "code",
   "execution_count": 8,
   "id": "a74e8202",
   "metadata": {},
   "outputs": [
    {
     "data": {
      "text/plain": [
       "8.268040130508401"
      ]
     },
     "execution_count": 8,
     "metadata": {},
     "output_type": "execute_result"
    }
   ],
   "source": [
    "dist"
   ]
  },
  {
   "cell_type": "code",
   "execution_count": 9,
   "id": "4120573a",
   "metadata": {},
   "outputs": [
    {
     "data": {
      "text/plain": [
       "5.918040130508402"
      ]
     },
     "execution_count": 9,
     "metadata": {},
     "output_type": "execute_result"
    }
   ],
   "source": [
    "dist-2.35"
   ]
  },
  {
   "cell_type": "code",
   "execution_count": 10,
   "id": "f592af9a",
   "metadata": {},
   "outputs": [
    {
     "data": {
      "text/plain": [
       "5.718980615314881"
      ]
     },
     "execution_count": 10,
     "metadata": {},
     "output_type": "execute_result"
    }
   ],
   "source": [
    "val=65\n",
    "max(df.loc[(df['degree']>val-1)&(df['degree']<val+1)]['distance'])"
   ]
  },
  {
   "cell_type": "code",
   "execution_count": 11,
   "id": "d89fb73e",
   "metadata": {},
   "outputs": [],
   "source": [
    "angle = math.degrees(math.atan(z/dist))\n",
    "other_angle = 90-angle\n"
   ]
  },
  {
   "cell_type": "code",
   "execution_count": 12,
   "id": "10d7f87b",
   "metadata": {},
   "outputs": [
    {
     "data": {
      "text/plain": [
       "(10.81863399397829, 79.1813660060217)"
      ]
     },
     "execution_count": 12,
     "metadata": {},
     "output_type": "execute_result"
    }
   ],
   "source": [
    "angle, other_angle"
   ]
  },
  {
   "cell_type": "code",
   "execution_count": 13,
   "id": "3bf9c00d",
   "metadata": {},
   "outputs": [
    {
     "name": "stdout",
     "output_type": "stream",
     "text": [
      "distance to an elementary school child is:  3.3501261338933404  meters\n",
      "distance to an adult is:  1.7551269998560235  meters\n"
     ]
    }
   ],
   "source": [
    "# Elementary School Child height: 5th percentile 7 yo female shoulder height of 37 inches (0.9398), 12 inches wide\n",
    "# Adult height: 5th percentile adult female shoulder height of 49 inches (1.2446), 16 inches wide\n",
    "# Elementary School Child on Bicycle: 5th percentile 7yo female shoulder height on bicycle of 35 inches\n",
    "# Adult on Bicycle: 5th percentile adult female shoulder height on bicycle\n",
    "\n",
    "elem_child_height = 0.9398\n",
    "adult_height = 1.2446\n",
    "\n",
    "dist_elem_child = (dist - elem_child_height * math.sin(math.radians(other_angle)) / math.sin(math.radians(angle)))\n",
    "print(\"distance to an elementary school child is: \", dist_elem_child, \" meters\")\n",
    "\n",
    "dist_adult = dist - (adult_height * math.sin(math.radians(other_angle)) / math.sin(math.radians(angle)))\n",
    "print(\"distance to an adult is: \", dist_adult, \" meters\")"
   ]
  },
  {
   "cell_type": "code",
   "execution_count": 14,
   "id": "e7132143",
   "metadata": {},
   "outputs": [
    {
     "name": "stdout",
     "output_type": "stream",
     "text": [
      "0.43079985548219346 meters in front of the hood before the child is visible\n"
     ]
    }
   ],
   "source": [
    "print((2.7807998554821935 - 2.35), \"meters in front of the hood before the child is visible\")\n",
    "# may have gotten ~32 inches when Ali was doing cone method for Volpe van"
   ]
  },
  {
   "cell_type": "code",
   "execution_count": 15,
   "id": "0254a09c",
   "metadata": {},
   "outputs": [
    {
     "name": "stdout",
     "output_type": "stream",
     "text": [
      "-10\n",
      "distance to an elementary school child is:  9.209593281571095  feet\n",
      "distance to an adult is:  4.82489469952975  feet\n",
      "0\n",
      "distance to an elementary school child is:  10.991227825122627  feet\n",
      "distance to an adult is:  5.758290866207636  feet\n",
      "10\n",
      "distance to an elementary school child is:  nan  feet\n",
      "distance to an adult is:  nan  feet\n",
      "20\n",
      "distance to an elementary school child is:  11.864021255286609  feet\n",
      "distance to an adult is:  6.215546280885862  feet\n",
      "30\n",
      "distance to an elementary school child is:  nan  feet\n",
      "distance to an adult is:  nan  feet\n",
      "40\n",
      "distance to an elementary school child is:  12.027513501510096  feet\n",
      "distance to an adult is:  6.301199669488419  feet\n"
     ]
    },
    {
     "name": "stderr",
     "output_type": "stream",
     "text": [
      "C:\\Users\\Eric.Englin\\Anaconda3\\envs\\geo_env\\lib\\site-packages\\numpy\\lib\\function_base.py:518: RuntimeWarning: Mean of empty slice.\n",
      "  avg = a.mean(axis, **keepdims_kw)\n",
      "C:\\Users\\Eric.Englin\\Anaconda3\\envs\\geo_env\\lib\\site-packages\\numpy\\core\\_methods.py:192: RuntimeWarning: invalid value encountered in scalar divide\n",
      "  ret = ret.dtype.type(ret / rcount)\n"
     ]
    }
   ],
   "source": [
    "z = 1.58\n",
    "y=2.35\n",
    "for val in range(-10, 50, 10):\n",
    "    print(val)\n",
    "    dist = np.average(df.loc[(df['degree']>val-1)&(df['degree']<val+1)]['distance'])\n",
    "    angle = math.degrees(math.atan(z/dist))\n",
    "    other_angle = 90-angle\n",
    "    dist_elem_child = (dist - elem_child_height * math.sin(math.radians(other_angle)) / math.sin(math.radians(angle)))*3.28084\n",
    "    print(\"distance to an elementary school child is: \", dist_elem_child, \" feet\")\n",
    "    \n",
    "    (dist_elem_child-y)/1\n",
    "\n",
    "    dist_adult = (dist - (adult_height * math.sin(math.radians(other_angle)) / math.sin(math.radians(angle))))*3.28084\n",
    "    print(\"distance to an adult is: \", dist_adult, \" feet\")\n"
   ]
  },
  {
   "cell_type": "code",
   "execution_count": 16,
   "id": "aa02b239",
   "metadata": {},
   "outputs": [],
   "source": [
    "# x = 52\n",
    "# y = -235\n",
    "# z = 158\n",
    "\n",
    "# height of elementary school child = 0.6858"
   ]
  },
  {
   "cell_type": "code",
   "execution_count": 17,
   "id": "92a2e9ed",
   "metadata": {},
   "outputs": [
    {
     "data": {
      "text/html": [
       "<div>\n",
       "<style scoped>\n",
       "    .dataframe tbody tr th:only-of-type {\n",
       "        vertical-align: middle;\n",
       "    }\n",
       "\n",
       "    .dataframe tbody tr th {\n",
       "        vertical-align: top;\n",
       "    }\n",
       "\n",
       "    .dataframe thead th {\n",
       "        text-align: right;\n",
       "    }\n",
       "</style>\n",
       "<table border=\"1\" class=\"dataframe\">\n",
       "  <thead>\n",
       "    <tr style=\"text-align: right;\">\n",
       "      <th></th>\n",
       "      <th>lat</th>\n",
       "      <th>lon</th>\n",
       "      <th>distance</th>\n",
       "      <th>degree</th>\n",
       "    </tr>\n",
       "  </thead>\n",
       "  <tbody>\n",
       "    <tr>\n",
       "      <th>0</th>\n",
       "      <td>-0.0117</td>\n",
       "      <td>-2.2810</td>\n",
       "      <td>2.281030</td>\n",
       "      <td>-90.293886</td>\n",
       "    </tr>\n",
       "    <tr>\n",
       "      <th>184</th>\n",
       "      <td>-0.0117</td>\n",
       "      <td>-2.2810</td>\n",
       "      <td>2.281030</td>\n",
       "      <td>-90.293886</td>\n",
       "    </tr>\n",
       "    <tr>\n",
       "      <th>1</th>\n",
       "      <td>0.1612</td>\n",
       "      <td>-2.2874</td>\n",
       "      <td>2.293073</td>\n",
       "      <td>-85.968858</td>\n",
       "    </tr>\n",
       "    <tr>\n",
       "      <th>2</th>\n",
       "      <td>0.2285</td>\n",
       "      <td>-2.2869</td>\n",
       "      <td>2.298287</td>\n",
       "      <td>-84.294120</td>\n",
       "    </tr>\n",
       "    <tr>\n",
       "      <th>3</th>\n",
       "      <td>0.8123</td>\n",
       "      <td>-2.3002</td>\n",
       "      <td>2.439416</td>\n",
       "      <td>-70.549673</td>\n",
       "    </tr>\n",
       "    <tr>\n",
       "      <th>...</th>\n",
       "      <td>...</td>\n",
       "      <td>...</td>\n",
       "      <td>...</td>\n",
       "      <td>...</td>\n",
       "    </tr>\n",
       "    <tr>\n",
       "      <th>146</th>\n",
       "      <td>7.2467</td>\n",
       "      <td>17.2764</td>\n",
       "      <td>18.734691</td>\n",
       "      <td>67.244065</td>\n",
       "    </tr>\n",
       "    <tr>\n",
       "      <th>75</th>\n",
       "      <td>15.0857</td>\n",
       "      <td>-13.0657</td>\n",
       "      <td>19.957226</td>\n",
       "      <td>-40.895783</td>\n",
       "    </tr>\n",
       "    <tr>\n",
       "      <th>76</th>\n",
       "      <td>18.1058</td>\n",
       "      <td>-8.4761</td>\n",
       "      <td>19.991605</td>\n",
       "      <td>-25.086306</td>\n",
       "    </tr>\n",
       "    <tr>\n",
       "      <th>144</th>\n",
       "      <td>10.4012</td>\n",
       "      <td>17.0734</td>\n",
       "      <td>19.992147</td>\n",
       "      <td>58.650020</td>\n",
       "    </tr>\n",
       "    <tr>\n",
       "      <th>145</th>\n",
       "      <td>7.6464</td>\n",
       "      <td>18.5380</td>\n",
       "      <td>20.053052</td>\n",
       "      <td>67.585239</td>\n",
       "    </tr>\n",
       "  </tbody>\n",
       "</table>\n",
       "<p>185 rows × 4 columns</p>\n",
       "</div>"
      ],
      "text/plain": [
       "         lat      lon   distance     degree\n",
       "0    -0.0117  -2.2810   2.281030 -90.293886\n",
       "184  -0.0117  -2.2810   2.281030 -90.293886\n",
       "1     0.1612  -2.2874   2.293073 -85.968858\n",
       "2     0.2285  -2.2869   2.298287 -84.294120\n",
       "3     0.8123  -2.3002   2.439416 -70.549673\n",
       "..       ...      ...        ...        ...\n",
       "146   7.2467  17.2764  18.734691  67.244065\n",
       "75   15.0857 -13.0657  19.957226 -40.895783\n",
       "76   18.1058  -8.4761  19.991605 -25.086306\n",
       "144  10.4012  17.0734  19.992147  58.650020\n",
       "145   7.6464  18.5380  20.053052  67.585239\n",
       "\n",
       "[185 rows x 4 columns]"
      ]
     },
     "execution_count": 17,
     "metadata": {},
     "output_type": "execute_result"
    }
   ],
   "source": [
    "df.sort_values('distance')"
   ]
  },
  {
   "cell_type": "code",
   "execution_count": 18,
   "id": "838ad54f",
   "metadata": {},
   "outputs": [
    {
     "data": {
      "text/html": [
       "<div>\n",
       "<style scoped>\n",
       "    .dataframe tbody tr th:only-of-type {\n",
       "        vertical-align: middle;\n",
       "    }\n",
       "\n",
       "    .dataframe tbody tr th {\n",
       "        vertical-align: top;\n",
       "    }\n",
       "\n",
       "    .dataframe thead th {\n",
       "        text-align: right;\n",
       "    }\n",
       "</style>\n",
       "<table border=\"1\" class=\"dataframe\">\n",
       "  <thead>\n",
       "    <tr style=\"text-align: right;\">\n",
       "      <th></th>\n",
       "      <th>lat</th>\n",
       "      <th>lon</th>\n",
       "      <th>distance</th>\n",
       "      <th>degree</th>\n",
       "    </tr>\n",
       "  </thead>\n",
       "  <tbody>\n",
       "    <tr>\n",
       "      <th>72</th>\n",
       "      <td>8.8619</td>\n",
       "      <td>-7.4225</td>\n",
       "      <td>11.559705</td>\n",
       "      <td>-39.948677</td>\n",
       "    </tr>\n",
       "    <tr>\n",
       "      <th>65</th>\n",
       "      <td>4.8746</td>\n",
       "      <td>-4.0814</td>\n",
       "      <td>6.357637</td>\n",
       "      <td>-39.938729</td>\n",
       "    </tr>\n",
       "    <tr>\n",
       "      <th>26</th>\n",
       "      <td>2.3908</td>\n",
       "      <td>-1.9944</td>\n",
       "      <td>3.113448</td>\n",
       "      <td>-39.834788</td>\n",
       "    </tr>\n",
       "    <tr>\n",
       "      <th>66</th>\n",
       "      <td>4.8746</td>\n",
       "      <td>-3.9429</td>\n",
       "      <td>6.269624</td>\n",
       "      <td>-38.968231</td>\n",
       "    </tr>\n",
       "    <tr>\n",
       "      <th>71</th>\n",
       "      <td>7.4886</td>\n",
       "      <td>-6.0001</td>\n",
       "      <td>9.595850</td>\n",
       "      <td>-38.702796</td>\n",
       "    </tr>\n",
       "    <tr>\n",
       "      <th>...</th>\n",
       "      <td>...</td>\n",
       "      <td>...</td>\n",
       "      <td>...</td>\n",
       "      <td>...</td>\n",
       "    </tr>\n",
       "    <tr>\n",
       "      <th>179</th>\n",
       "      <td>0.5074</td>\n",
       "      <td>6.0220</td>\n",
       "      <td>6.043338</td>\n",
       "      <td>85.183764</td>\n",
       "    </tr>\n",
       "    <tr>\n",
       "      <th>180</th>\n",
       "      <td>0.3631</td>\n",
       "      <td>6.1052</td>\n",
       "      <td>6.115988</td>\n",
       "      <td>86.596406</td>\n",
       "    </tr>\n",
       "    <tr>\n",
       "      <th>181</th>\n",
       "      <td>0.2397</td>\n",
       "      <td>6.2173</td>\n",
       "      <td>6.221919</td>\n",
       "      <td>87.792128</td>\n",
       "    </tr>\n",
       "    <tr>\n",
       "      <th>182</th>\n",
       "      <td>0.1028</td>\n",
       "      <td>6.2153</td>\n",
       "      <td>6.216150</td>\n",
       "      <td>89.052424</td>\n",
       "    </tr>\n",
       "    <tr>\n",
       "      <th>183</th>\n",
       "      <td>0.0000</td>\n",
       "      <td>6.2740</td>\n",
       "      <td>6.274000</td>\n",
       "      <td>90.000000</td>\n",
       "    </tr>\n",
       "  </tbody>\n",
       "</table>\n",
       "<p>118 rows × 4 columns</p>\n",
       "</div>"
      ],
      "text/plain": [
       "        lat     lon   distance     degree\n",
       "72   8.8619 -7.4225  11.559705 -39.948677\n",
       "65   4.8746 -4.0814   6.357637 -39.938729\n",
       "26   2.3908 -1.9944   3.113448 -39.834788\n",
       "66   4.8746 -3.9429   6.269624 -38.968231\n",
       "71   7.4886 -6.0001   9.595850 -38.702796\n",
       "..      ...     ...        ...        ...\n",
       "179  0.5074  6.0220   6.043338  85.183764\n",
       "180  0.3631  6.1052   6.115988  86.596406\n",
       "181  0.2397  6.2173   6.221919  87.792128\n",
       "182  0.1028  6.2153   6.216150  89.052424\n",
       "183  0.0000  6.2740   6.274000  90.000000\n",
       "\n",
       "[118 rows x 4 columns]"
      ]
     },
     "execution_count": 18,
     "metadata": {},
     "output_type": "execute_result"
    }
   ],
   "source": [
    "df.loc[(df['degree']>-40)].sort_values('degree')"
   ]
  },
  {
   "cell_type": "code",
   "execution_count": 19,
   "id": "b4088ab9",
   "metadata": {},
   "outputs": [],
   "source": [
    "import matplotlib.pyplot as plt\n",
    "import numpy as np\n",
    "from io import StringIO\n",
    "from PIL import Image\n",
    "from matplotlib.offsetbox import (OffsetImage, AnnotationBbox)\n",
    "import math as mth"
   ]
  },
  {
   "cell_type": "code",
   "execution_count": 20,
   "id": "0555bc9c",
   "metadata": {},
   "outputs": [],
   "source": [
    "def calculate_area(coordinates):\n",
    "    # Code adapted from https://stackoverflow.com/questions/41077185/fastest-way-to-shoelace-formula\n",
    "    x = coordinates[:, 0]\n",
    "    y = coordinates[:, 1]\n",
    "\n",
    "    S1 = np.sum(x * np.roll(y, -1))\n",
    "    S2 = np.sum(y * np.roll(x, -1))\n",
    "\n",
    "    area = .5 * np.absolute(S1 - S2)\n",
    "\n",
    "    return area"
   ]
  },
  {
   "cell_type": "code",
   "execution_count": 21,
   "id": "e6838ba0",
   "metadata": {},
   "outputs": [
    {
     "data": {
      "text/plain": [
       "1.25207"
      ]
     },
     "execution_count": 21,
     "metadata": {},
     "output_type": "execute_result"
    }
   ],
   "source": [
    "((18.3-16.25)*0.0254)+1.2"
   ]
  },
  {
   "cell_type": "code",
   "execution_count": 22,
   "id": "3ac1abc6",
   "metadata": {},
   "outputs": [
    {
     "data": {
      "text/plain": [
       "0     -236.17\n",
       "1     -218.88\n",
       "2     -212.15\n",
       "3     -153.77\n",
       "4     -150.03\n",
       "        ...  \n",
       "180   -198.69\n",
       "181   -211.03\n",
       "182   -224.72\n",
       "183   -235.00\n",
       "184   -236.17\n",
       "Name: lat, Length: 185, dtype: float64"
      ]
     },
     "execution_count": 22,
     "metadata": {},
     "output_type": "execute_result"
    }
   ],
   "source": [
    "df.lat*100-235"
   ]
  },
  {
   "cell_type": "code",
   "execution_count": 23,
   "id": "9b3a2ab9",
   "metadata": {},
   "outputs": [
    {
     "data": {
      "text/plain": [
       "153.45397820868166"
      ]
     },
     "execution_count": 23,
     "metadata": {},
     "output_type": "execute_result"
    }
   ],
   "source": [
    "5.034579498661712/3.28084*100"
   ]
  },
  {
   "cell_type": "code",
   "execution_count": 24,
   "id": "1caf9acf",
   "metadata": {},
   "outputs": [
    {
     "name": "stdout",
     "output_type": "stream",
     "text": [
      "9.9737536 feet\n",
      "7.709974 feet\n",
      "2.2637796 feet\n"
     ]
    }
   ],
   "source": [
    "print(304*3.28084/100, \"feet\")\n",
    "print(235*3.28084/100, \"feet\")\n",
    "print(69*3.28084/100, \"feet\")"
   ]
  },
  {
   "cell_type": "code",
   "execution_count": 25,
   "id": "29e6c152",
   "metadata": {},
   "outputs": [
    {
     "data": {
      "text/plain": [
       "28.65119908316163"
      ]
     },
     "execution_count": 25,
     "metadata": {},
     "output_type": "execute_result"
    }
   ],
   "source": [
    "94/3.28084"
   ]
  },
  {
   "cell_type": "code",
   "execution_count": 26,
   "id": "a4e87a05",
   "metadata": {},
   "outputs": [
    {
     "data": {
      "text/plain": [
       "88.0"
      ]
     },
     "execution_count": 26,
     "metadata": {},
     "output_type": "execute_result"
    }
   ],
   "source": [
    "math.degrees((mth.pi/2)-mth.radians(2))"
   ]
  },
  {
   "cell_type": "code",
   "execution_count": 27,
   "id": "2ec1d1cb",
   "metadata": {},
   "outputs": [
    {
     "data": {
      "text/plain": [
       "92.0"
      ]
     },
     "execution_count": 27,
     "metadata": {},
     "output_type": "execute_result"
    }
   ],
   "source": [
    "math.degrees((mth.pi/2)+mth.radians(2))"
   ]
  },
  {
   "cell_type": "code",
   "execution_count": 55,
   "id": "5daa676d",
   "metadata": {
    "scrolled": true
   },
   "outputs": [],
   "source": [
    "def viz_overhead(nvp_x_cartesian, nvp_y_cartesian, eye_height_full, \n",
    "                 eye_point_full, vru_selected, vehicle_width, vehicle_D):\n",
    "    '''\n",
    "    Takes NVPs, vehicle measurements, and VRU. Plots overhead view of blind zone\n",
    "      with nearest forward-visible VRU. Saves the figure as an SVG and returns fig\n",
    "       for viewing, if desired.\n",
    "\n",
    "    Takes inputs:\n",
    "    vp_x_cartesian = np.array([nums]) [cm]\n",
    "    nvp_y_cartesian = np.array([nums]) [cm]\n",
    "    # eye height calculated from interpolated seat-ground [m]\n",
    "    eye_height_full = num\n",
    "    eye_point_full = num # interpolated front-of-hood to eye distance\n",
    "      interpolated [m]\n",
    "    vru_selected = array # options: 1=toddler, 2=elementary, 3=elem_bike,\n",
    "      4=wheelchair, 5=adult_bike, 6=adult\n",
    "\n",
    "    *np.array requires importing the numpy library (import numpy as np)\n",
    "    '''\n",
    "    '''VRU sizes (taken fron VIEW 1.0)\n",
    "      'pre-school', 'elem_bike', 'elementary', 'wheelchair', 'adult_bike', 'adult'\n",
    "      shoulder height, width, person height (all in [in])\n",
    "      DOESN'T CONTAIN DEPTH, BUT ASSUMES THAT BICYCLES ARE 4X DEPTH OF PEOPLE AND IGNORES WHEELCHAIRS?'''\n",
    "    vru_label = ['pre-school child', 'elementary schooler on bike', 'elementary school child',\n",
    "                 'wheelchair user', 'adult on bike', 'adult']\n",
    "    vru_sizes = np.array([[28, 9, 34], [35, 12, 45], [37, 12, 45], [\n",
    "                         39, 26, 49], [47, 16, 58], [49, 16, 60]])\n",
    "    # vru depths in inches (4ft for bikes, 2ft for wheelchair, and 1ft for anything else)\n",
    "    vru_depths = np.array([12, 48, 12, 24, 48, 12])\n",
    "    # vru areas in square feet\n",
    "    vru_areas = (vru_sizes[:, 1] / 12) * (vru_depths / 12)\n",
    "\n",
    "    max_distance = 7*7  # maximum distance plotted (multiple of 7)\n",
    "\n",
    "    # start and end angles for plotting [deg]\n",
    "    plot_start = -0\n",
    "    plot_end = 180\n",
    "\n",
    "    # background colors (make sure to have the same number of colors as plot divisions)\n",
    "    greenBG = ['#143A1D', '#1A5A2D', '#1F723A',\n",
    "               '#429344', '#7CBC55', '#A6C991', '#CAE4BB']\n",
    "\n",
    "    ''' -------------------------\n",
    "  Begin initial data processing\n",
    "  --------------------------'''\n",
    "    # convert vehicle measurements from [m] to [ft]\n",
    "    eye_height_full = eye_height_full*3.28084\n",
    "    eye_point_full = eye_point_full*3.28084\n",
    "    \n",
    "    print(eye_height_full)\n",
    "    print(eye_point_full)\n",
    "\n",
    "    # convert NVP data from [cm] to [ft]\n",
    "    nvp_x_cartesian_ft = np.asarray(nvp_x_cartesian)*0.032808399\n",
    "    nvp_y_cartesian_ft = np.asarray(nvp_y_cartesian)*0.032808399\n",
    "\n",
    "    # convert to polar coordinate system\n",
    "    r = np.sqrt(np.square(nvp_x_cartesian_ft) + np.square(nvp_y_cartesian_ft))\n",
    "    theta = np.arctan2(nvp_y_cartesian_ft, nvp_x_cartesian_ft)\n",
    "\n",
    "    # sort data from smallest to largest theta value ('untwist') (WIP)\n",
    "    '''idx = np.argsort(theta)  # find indices that would sort the array\n",
    "    r_sorted = np.array(r)[idx]\n",
    "    theta_sorted = np.array(theta)[idx]'''\n",
    "    r_sorted = r\n",
    "    theta_sorted = theta\n",
    "    \n",
    "   # print(\"r\", r_sorted)\n",
    "  #  print(\"theta\", theta_sorted)\n",
    "\n",
    "    ''' -----------------------\n",
    "    End initial data processing\n",
    "    ------------------------'''\n",
    "\n",
    "    \"\"\"\n",
    "    ------------------------------------\n",
    "    Begin Calculate Area Taken Up By Car\n",
    "    ------------------------------------\n",
    "    \"\"\"\n",
    "    # calculate vehicle area in [ft^2]\n",
    "    vehicle_width = vehicle_width*3.28084\n",
    "    \n",
    "    print(\"vehicle_width\", vehicle_width)\n",
    "    print(\"eye_point_full\", eye_point_full)\n",
    "    \n",
    "    vehicle_area = vehicle_width * eye_point_full\n",
    "    print(\"vehicle_area\", vehicle_area)\n",
    "  \n",
    "    #vehicle_area = (vehicle_width * eye_point_full) + (vehicle_D**2 * mth.tan(mth.radians(20)\n",
    "     #                                            ) / 2) + ((vehicle_width - vehicle_D)**2 * mth.tan(mth.radians(20)) / 2)\n",
    "  #  print(vehicle_area)\n",
    "    # initialize array to hold areas bounded by nvps and each vru in [ft^2]\n",
    "    vru_nvp_areas = []\n",
    "    # initialize array to hold number of vrus in the vru_nvp_areas\n",
    "    num_vrus_in_vru_nvp_area = []\n",
    "    # initialize array to hold closest forward vru\n",
    "    closest_forward_vrus = []\n",
    "\n",
    "    # use nvps for first area\n",
    "    ground_points = np.stack(\n",
    "        (r_sorted * np.cos(theta_sorted), r_sorted * np.sin(theta_sorted)), axis=1)\n",
    "    ground_area = calculate_area(np.append(ground_points, [[0, 0]], axis=0))\n",
    "    print(\"ground_area\", ground_area)\n",
    "    vru_nvp_areas.append(max(0, ground_area - vehicle_area))\n",
    "    print(\"vru_nvp_areas\", vru_nvp_areas)\n",
    "    \"\"\"\n",
    "    ----------------------------------\n",
    "    End Calculate Area Taken Up By Car\n",
    "    ----------------------------------\n",
    "    \"\"\"\n",
    "\n",
    "    # set figure size (check as regular script since notebooks don't work the same way)\n",
    "    px = 1/plt.rcParams['figure.dpi']  # pixel in inches\n",
    "    fig, ax = plt.subplots(\n",
    "        subplot_kw={'projection': 'polar'}, figsize=(800*px, 600*px))\n",
    "\n",
    "    # plot background arcs\n",
    "    for i in range(0, 7):\n",
    "        colorBG = greenBG[i]\n",
    "        ax.bar(np.pi/2, max_distance/7, width=mth.radians(plot_end-plot_start), bottom=i*max_distance/7,\n",
    "               color=colorBG, edgecolor=colorBG, label='_Visible Zone')  # 294 previously max(r)\n",
    "\n",
    "    # plot NVPs\n",
    "    ax.plot(theta_sorted, r_sorted, '#404040',\n",
    "            linewidth=0)\n",
    "    ax.set_rlabel_position(-20)  # Move radial labels away from plotted line\n",
    "    # 65% opacity (a6) 5c5c5ca6 is lighter bf\n",
    "    ax.fill(theta_sorted, r_sorted, '#404040', label=\"ground blindzone\")\n",
    "\n",
    "    # set plot color options based on number of VRUs so ligher color is always on top\n",
    "    if len(vru_selected) == 2:\n",
    "        vru_plot_colors = ['#A34D9D', '#A6DDE7']\n",
    "        vru_fill_colors = ['#A34D9Da6', '#A6DDE7a6']\n",
    "    else:\n",
    "        vru_plot_colors = ['#A6DDE7']\n",
    "        vru_fill_colors = ['#A6DDE7a6']\n",
    "    graph_str = ['', '']\n",
    "    vru_index = 0\n",
    "    for vru in vru_selected:\n",
    "        ''' --------------------------------------\n",
    "      Begin calculate NVPs for seeing vru_selected\n",
    "      -----------------------------------------'''\n",
    "\n",
    "        # store 'shoulder height' of selected VRU in [ft]\n",
    "        vru_height = vru_sizes[vru-1, 0]/12\n",
    "        # store 'width' of selected VRU in [ft]\n",
    "        vru_width = vru_sizes[vru-1, 1]/12\n",
    "\n",
    "        r_vru_nvp = np.empty(len(r_sorted))\n",
    "\n",
    "        for i in range(len(theta_sorted)):\n",
    "            # find sides of triangle from eye to ground\n",
    "            b_eye = r_sorted[i]  # length\n",
    "            a_eye = eye_height_full  # height\n",
    "            c_eye = mth.sqrt(a_eye**2 + b_eye**2)  # hypotenuse\n",
    "\n",
    "            # find sides of similar triangle from vru to ground\n",
    "            a_vru = vru_height  # height\n",
    "            c_vru = (a_vru*c_eye)/a_eye  # hypotenuse (similar triangles)\n",
    "            b_vru = mth.sqrt(c_vru**2 - a_vru**2)  # length, this is incorrect in the current VIEW app 2.0 code\n",
    "\n",
    "            r_vru_nvp[i] = b_eye-b_vru  # find distance from eye to visible vru\n",
    "\n",
    "        # add area of vru to area array\n",
    "        # replace all NVPs greater than max distance with the max distance\n",
    "        r_area_calc = np.copy(r_vru_nvp)\n",
    "        r_area_calc[r_area_calc > max_distance] = max_distance\n",
    "        vru_points = np.stack(\n",
    "            (r_area_calc * np.cos(theta_sorted), r_area_calc * np.sin(theta_sorted)), axis=1)\n",
    "        vru_area = calculate_area(np.append(vru_points, [[0, 0]], axis=0))\n",
    "        print(\"vru_area\", vru_area)\n",
    "        vru_nvp_areas.append(max(0, vru_area - vehicle_area))\n",
    "        print(\"vru_areas[vru - 1]\", vru_areas[vru - 1])\n",
    "        print(\"vru_area\", vru_area)\n",
    "        print(\"vehicle_area\", vehicle_area)\n",
    "        print(\"int(max(0, vru_area - vehicle_area) / vru_areas[vru - 1])\", int(max(0, vru_area - vehicle_area) / vru_areas[vru - 1]))\n",
    "        num_vrus_in_vru_nvp_area.append(\n",
    "            int(max(0, vru_area - vehicle_area) / vru_areas[vru - 1]))\n",
    "        \n",
    "        print(num_vrus_in_vru_nvp_area)\n",
    "\n",
    "        # plot effective NVP to vru\n",
    "        ax.plot(theta_sorted, r_vru_nvp,\n",
    "                vru_plot_colors[vru_index], linewidth=1)\n",
    "        ax.fill(theta_sorted, r_vru_nvp, vru_fill_colors[vru_index],\n",
    "                label=f\"{vru_label[vru-1]} blindzone\")\n",
    "        ''' ------------------------------------\n",
    "      End calculate NVPs for seeing vru_selected\n",
    "      ---------------------------------------'''\n",
    "        ''' ---------------------------------------------------------\n",
    "      Begin note minimum distance from hood to VRU in front of driver\n",
    "      ------------------------------------------------------------'''\n",
    "        # find nvp in front of driver (with tolerance)\n",
    "        # b/w 88 and 92deg (taking ind0 since returns array inside variable)\n",
    "        front_range_indices = np.where(np.logical_and(\n",
    "            theta_sorted >= (mth.pi/2)-mth.radians(2),\n",
    "            theta_sorted <= (mth.pi/2)+mth.radians(2)))[0]\n",
    "        # find index of minimum of selected entries\n",
    "        front_r_min_index = front_range_indices[np.argmin(\n",
    "            r_sorted[front_range_indices])]\n",
    "        print(\"r_sorted\", r_sorted[front_range_indices])\n",
    "        print(\"r_sorted_min\", r_sorted[front_r_min_index])\n",
    "        print(\"r_vru_nvp\", r_vru_nvp[front_r_min_index])\n",
    "        # store r value that meets the conditions above (absolute location)\n",
    "        r_vru_fit = r_vru_nvp[front_r_min_index]\n",
    "        print(f\"distance from eye to hood: {eye_point_full}\")\n",
    "        print(f\"distance from eye to {vru_label[vru-1]}: {r_vru_fit}\")\n",
    "        # minimum distance from HOOD to first visible VRU in front of driver (relative distance)\n",
    "        front_vru_dist = r_vru_fit-eye_point_full  # [ft]\n",
    "        if front_vru_dist < 0:  # prevent negativ results\n",
    "            front_vru_dist = 0\n",
    "        # print(f\"distance from hood to {vru_label[vru-1]}: {front_vru_dist}\")\n",
    "        # store note (str) of distance to closest forward-visible VRU to pass to site\n",
    "        graph_str[vru_index] = ('The closest forward-visible ' +\n",
    "                                vru_label[vru-1] + ' is ' +\n",
    "                                str(round(front_vru_dist,2)) + 'ft in front of the vehicle.')\n",
    "        print('The closest forward-visible ' +\n",
    "                                vru_label[vru-1] + ' is ' +\n",
    "                                str(round(front_vru_dist,2)) + 'ft in front of the vehicle.')\n",
    "        closest_forward_vrus.append(round(front_vru_dist,2))\n",
    "      #   ''' -------------------------------------------------------\n",
    "      # End note minimum distance from hood to VRU in front of driver\n",
    "      # ----------------------------------------------------------'''\n",
    "\n",
    "        graph_str[vru_index] = \" \"\n",
    "        vru_index += 1\n",
    "\n",
    "    # restrict angles of plot (switching min and max moves tick labels)\n",
    "    ax.set_thetamin(plot_end)\n",
    "    ax.set_thetamax(plot_start)\n",
    "\n",
    "    # make plot axes match background divisions\n",
    "    # generate markers range(0,round(max(r)),round(max(r)/7))\n",
    "    tick_list = np.arange(0, max_distance+1, max_distance/7)\n",
    "    ax.set_ylim(0, max_distance)  # [0,round(max(r))]\n",
    "    plt.yticks(tick_list)  # range(0,round(max(r)),round(max(r)/7))\n",
    "\n",
    "    # label the radial axis\n",
    "    label_position = ax.get_rlabel_position()\n",
    "    ax.text(np.radians(plot_end + 12), 5 + ax.get_rmax()/2., 'Distance from Driver Eye [ft]',\n",
    "             horizontalalignment='right', ha='center', va='center')\n",
    "\n",
    "    ax.grid(True, color='#fff')\n",
    "    ax.spines['polar'].set_visible(False)\n",
    "\n",
    "\n",
    "\n",
    "    # legend in bottom left corner of FIGURE, not PLOT\n",
    "    # fig.legend(loc='lower right', fontsize=\"12\", fancybox=False)\n",
    "\n",
    "    # title for the graph\n",
    "    '''plt.title(\n",
    "        f\"Blindzones for {height_percentile} Driver in {vehicle}\", fontsize=15)'''\n",
    "\n",
    "    #imgdata = StringIO()\n",
    "    # save file as SVG\n",
    "    # plt.savefig('/content/viz_overhead.svg', transparent=False, dpi='figure',\n",
    "    #             pad_inches=0, facecolor='#fff', edgecolor='#5c5c5c')\n",
    "   # fig.savefig(imgdata, format='svg', transparent=False, dpi='figure',\n",
    "          #      pad_inches=0, facecolor='#fff', edgecolor='#5c5c5c')\n",
    "\n",
    "   # imgdata.seek(0)\n",
    "\n",
    "   # data = imgdata.getvalue()\n",
    "\n",
    "   # return data, closest_forward_vrus, num_vrus_in_vru_nvp_area\n",
    "    return closest_forward_vrus, num_vrus_in_vru_nvp_area\n"
   ]
  },
  {
   "cell_type": "code",
   "execution_count": 45,
   "id": "503f1638",
   "metadata": {},
   "outputs": [
    {
     "data": {
      "text/plain": [
       "40.656000000000006"
      ]
     },
     "execution_count": 45,
     "metadata": {},
     "output_type": "execute_result"
    }
   ],
   "source": [
    "5.28*7.7"
   ]
  },
  {
   "cell_type": "code",
   "execution_count": 56,
   "id": "f3f0803c",
   "metadata": {
    "scrolled": false
   },
   "outputs": [
    {
     "name": "stdout",
     "output_type": "stream",
     "text": [
      "5.1837272\n",
      "7.709974\n",
      "vehicle_width 5.6102364\n",
      "eye_point_full 7.709974\n",
      "vehicle_area 43.2547767778536\n",
      "ground_area 1326.2641916550492\n",
      "vru_nvp_areas [1283.0094148771957]\n",
      "vru_area 401.0102905380081\n",
      "vru_areas[vru - 1] 0.75\n",
      "vru_area 401.0102905380081\n",
      "vehicle_area 43.2547767778536\n",
      "int(max(0, vru_area - vehicle_area) / vru_areas[vru - 1]) 477\n",
      "[477]\n",
      "r_sorted [22.37729604 22.49235449 22.51617956 22.54023544 22.57728314]\n",
      "r_sorted_min 22.37729604425533\n",
      "r_vru_nvp 12.3046805775446\n",
      "distance from eye to hood: 7.709974\n",
      "distance from eye to pre-school child: 12.3046805775446\n",
      "The closest forward-visible pre-school child is 4.59ft in front of the vehicle.\n",
      "vru_area 217.74452838286356\n",
      "vru_areas[vru - 1] 1.0\n",
      "vru_area 217.74452838286356\n",
      "vehicle_area 43.2547767778536\n",
      "int(max(0, vru_area - vehicle_area) / vru_areas[vru - 1]) 174\n",
      "[477, 174]\n",
      "r_sorted [22.37729604 22.49235449 22.51617956 22.54023544 22.57728314]\n",
      "r_sorted_min 22.37729604425533\n",
      "r_vru_nvp 9.067054177530435\n",
      "distance from eye to hood: 7.709974\n",
      "distance from eye to elementary school child: 9.067054177530435\n",
      "The closest forward-visible elementary school child is 1.36ft in front of the vehicle.\n"
     ]
    },
    {
     "data": {
      "text/plain": [
       "([4.59, 1.36], [477, 174])"
      ]
     },
     "execution_count": 56,
     "metadata": {},
     "output_type": "execute_result"
    },
    {
     "data": {
      "image/png": "[encoded data removed]",
      "text/plain": [
       "<Figure size 800x600 with 1 Axes>"
      ]
     },
     "metadata": {
      "needs_background": "light"
     },
     "output_type": "display_data"
    }
   ],
   "source": [
    "# Set filepath\n",
    "suburban = \"Data/Suburban 2006.shp\"\n",
    "\n",
    "# Read file using gpd.read_file()\n",
    "data = gpd.read_file(suburban)\n",
    "poly_mapped = mapping(data)\n",
    "poly_coordinates = poly_mapped['features'][0]['geometry']['coordinates'][0]\n",
    "#coords = [coords[0,1] for coords in poly_coordinates]\n",
    "lats = [coords[1] for coords in poly_coordinates]\n",
    "lons = [coords[0] for coords in poly_coordinates]\n",
    "\n",
    "df = pd.DataFrame({\n",
    "    'lat':lats,\n",
    "    'lon':lons})\n",
    "\n",
    "eye_height_full = 1.58\n",
    "eye_point_full = 2.35\n",
    "vru_selected=[1,3]\n",
    "vehicle_width = 1.19+.52\n",
    "vehicle_D = 1\n",
    "\n",
    "viz_overhead(df.lon*100, df.lat*100, eye_height_full, \n",
    "                 eye_point_full, vru_selected, vehicle_width, vehicle_D)"
   ]
  },
  {
   "cell_type": "code",
   "execution_count": null,
   "id": "d8544472",
   "metadata": {},
   "outputs": [],
   "source": []
  },
  {
   "cell_type": "code",
   "execution_count": 30,
   "id": "48c19f9b",
   "metadata": {},
   "outputs": [],
   "source": [
    "# Set filepath\n",
    "datafile = r\"C:\\Users\\Eric.Englin\\DOT OST\\VIEW - MassDOT\\Data Collection\\shapefiles\\FordF450_2015.shp\"\n",
    "\n",
    "# Read file using gpd.read_file()\n",
    "data = gpd.read_file(datafile)\n",
    "poly_mapped = mapping(data)\n",
    "poly_coordinates = poly_mapped['features'][0]['geometry']['coordinates'][0]\n",
    "#coords = [coords[0,1] for coords in poly_coordinates]\n",
    "lats = [coords[1] for coords in poly_coordinates]\n",
    "lons = [coords[0] for coords in poly_coordinates]\n",
    "\n",
    "df = pd.DataFrame({\n",
    "    'lat':lats,\n",
    "    'lon':lons})"
   ]
  },
  {
   "cell_type": "code",
   "execution_count": 31,
   "id": "6f354f58",
   "metadata": {},
   "outputs": [
    {
     "data": {
      "text/plain": [
       "<matplotlib.collections.PathCollection at 0x2957dea8430>"
      ]
     },
     "execution_count": 31,
     "metadata": {},
     "output_type": "execute_result"
    },
    {
     "data": {
      "image/png": "[encoded data removed]",
      "text/plain": [
       "<Figure size 432x288 with 1 Axes>"
      ]
     },
     "metadata": {
      "needs_background": "light"
     },
     "output_type": "display_data"
    }
   ],
   "source": [
    "plt.scatter(df.lon, df.lat)"
   ]
  },
  {
   "cell_type": "code",
   "execution_count": 32,
   "id": "031bbbdd",
   "metadata": {
    "scrolled": true
   },
   "outputs": [
    {
     "name": "stdout",
     "output_type": "stream",
     "text": [
      "5.6758532\n",
      "8.694226\n",
      "r [ 7.48369426  7.52320569  7.54031221  8.00333396  8.02194767  8.08979687\n",
      "  8.39400217  8.37323956  8.52001174  8.70907427  8.63893071  8.59988084\n",
      "  8.67549968  8.67538849  8.79044829  8.7754445   8.56782983  8.468318\n",
      "  8.51215958  8.6894848   8.79125797  8.88662753  9.12725417  9.33159626\n",
      "  9.53853308  9.85353072 10.21472313 10.87384743 11.17710706 11.21315834\n",
      " 11.09297094 10.93876349 11.14656005 11.24346241 11.30464394 11.4153288\n",
      " 11.65600249 11.92676534 12.39532313 13.00298413 13.8362717  14.64830366\n",
      " 15.84098249 17.4028526  18.80109643 20.50618155 22.41204943 24.57585493\n",
      " 28.72378923 31.08653462 33.53006964 36.34162227 34.31357909 32.13457034\n",
      " 33.30021966 34.19219223 33.1498122  29.88084748 26.4953645  23.64630826\n",
      " 21.03482198 20.59386951 20.48576816 20.6007693  20.62716022 20.85838989\n",
      " 20.5696327  20.22284185 20.09428934 23.28419207 26.14752747 31.48244632\n",
      " 37.92554114 45.34719028 56.24925602 65.47646264 65.58925488 41.63688373\n",
      " 33.37656946 28.94072218 28.05550282 25.46478961 22.02607167 20.05542096\n",
      " 18.92516221 18.86599392 19.73348047 20.39535244 21.42659538 22.6135185\n",
      " 23.22087826 23.46796935 22.77928429 22.67887547 23.34740895 24.50027775\n",
      " 24.86981511 26.66923071 25.72835283 26.09160195 26.83046487 26.4295604\n",
      " 27.22985902 26.92583497 27.32639694 27.45928903 27.22918539 27.46966439\n",
      " 28.04176409 28.34526067 28.05826168 27.85525297 28.47786656 28.95424553\n",
      " 28.50550175 29.2943535  29.96095915 29.56312987 29.28015153 30.39395979\n",
      " 30.60447083 31.01995814 28.60523317 29.29533078 27.6160628  28.51100133\n",
      " 28.92841314 29.32775609 29.70703361 28.8150317  30.18412296 30.05178608\n",
      " 29.72189095 29.87714839 29.93767877 28.5662058  28.49518847 28.49495111\n",
      " 28.99528259 29.0318332  31.68079274 34.87523071 39.62685145 44.51388184\n",
      " 65.59103417 65.79085168 61.46552271 48.61525161 55.51194197 56.84810243\n",
      " 57.13059557 50.29746309 40.37764542 33.73091296 28.73911273 24.99737911\n",
      " 22.82281752 21.06917469 19.95572734 19.16466981 19.34703869 19.02480337\n",
      " 18.11675962 18.76305979 18.05223863 17.87163425 17.94496232 17.92534494\n",
      " 18.01867787 19.05824569 19.75541546 19.65825435 20.0231523  20.16453778\n",
      " 20.17828941 19.70532958 19.64364539 20.64938601 20.29609366 19.82722568\n",
      " 20.06557731 20.41311993 20.39419324 20.58398953  7.48369426]\n",
      "theta [-3.13646337  3.07123595  3.04200626  2.8021204   2.78667535  2.76957373\n",
      "  2.76087579  2.7194337   2.69499472  2.6782146   2.64500711  2.61036569\n",
      "  2.58703404  2.55498506  2.5235559   2.51345056  2.48412963  2.45439933\n",
      "  2.42924566  2.40368108  2.38329907  2.35697766  2.33987584  2.31100714\n",
      "  2.28962633  2.24031127  2.26604454  2.28374244  2.3226052   2.35131184\n",
      "  2.36830358  2.38516881  2.40920855  2.43468182  2.45972659  2.4842726\n",
      "  2.50663151  2.53190558  2.55499218  2.56953204  2.57434695  2.58862003\n",
      "  2.57275395  2.57114889  2.56471705  2.56310398  2.56310696  2.56793064\n",
      "  2.55823738  2.54352057  2.52691559  2.50323379  2.47730751  2.45082963\n",
      "  2.42746076  2.40369304  2.37769475  2.35509202  2.34177304  2.33795511\n",
      "  2.33412392  2.3199357   2.30484945  2.289896    2.28780538  2.26785865\n",
      "  2.25092026  2.23820982  2.19115969  2.20639263  2.22439577  2.24628755\n",
      "  2.26803227  2.28961339  2.30713655  2.28456239  2.00863496  1.99996646\n",
      "  1.9932285   1.99154028  1.97811576  1.98304889  1.97105862  1.96241508\n",
      "  1.94670891  1.92187321  1.90203686  1.8782471   1.85222565  1.82769691\n",
      "  1.80669741  1.78159381  1.75426329  1.72862936  1.70479183  1.68279186\n",
      "  1.65665012  1.64502072  1.6263592   1.62392264  1.60515165  1.60203383\n",
      "  1.58890649  1.57768075  1.566258    1.55129593  1.54456268  1.53709733\n",
      "  1.5188491   1.50671041  1.48138986  1.47444319  1.45260735  1.35570879\n",
      "  1.33640588  1.30779952  1.30024162  1.27591357  1.21576066  1.19626931\n",
      "  1.09370541  1.06841     0.96577757  0.9810481   0.93878836  0.94680129\n",
      "  0.92702983  0.90909775  0.89287316  0.85547523  0.87347647  0.85933521\n",
      "  0.84439416  0.82983527  0.82762787  0.7672464   0.74304214  0.71374905\n",
      "  0.69216385  0.66390958  0.64657475  0.62609472  0.61098574  0.59443158\n",
      "  0.54716038  0.39121138  0.39716598  0.41518882  0.38519925  0.35940426\n",
      "  0.33187675  0.31238776  0.31044463  0.30850273  0.29691094  0.29498554\n",
      "  0.29306226  0.30850401  0.32796856  0.36137742  0.38918196  0.41518814\n",
      "  0.44335878  0.4192008   0.4131774   0.39117321  0.36336064  0.33384167\n",
      "  0.30850706  0.28921267  0.23057051  0.24739923  0.25493768  0.23057081\n",
      "  0.20656002  0.17751549  0.1508373   0.12642621  0.10419328  0.08405917\n",
      "  0.05940392  0.03853463  0.01653832  0.         -3.13646337]\n",
      "vru_nvp_areas [1847.6727780685148]\n",
      "[839]\n",
      "r_sorted [26.83046487 26.4295604  27.22985902 26.92583497 27.32639694 27.45928903\n",
      " 27.22918539 27.46966439]\n",
      "r_sorted_min 26.429560399459525\n",
      "r_vru_nvp 15.564414298534018\n",
      "distance from eye to hood: 8.694226\n",
      "distance from eye to pre-school child: 15.564414298534018\n",
      "The closest forward-visible pre-school child is 6.87ft in front of the vehicle.\n",
      "[839, 372]\n",
      "r_sorted [26.83046487 26.4295604  27.22985902 26.92583497 27.32639694 27.45928903\n",
      " 27.22918539 27.46966439]\n",
      "r_sorted_min 26.429560399459525\n",
      "r_vru_nvp 12.07204590895082\n",
      "distance from eye to hood: 8.694226\n",
      "distance from eye to elementary school child: 12.07204590895082\n",
      "The closest forward-visible elementary school child is 3.38ft in front of the vehicle.\n"
     ]
    },
    {
     "data": {
      "text/plain": [
       "([6.87, 3.38], [839, 372])"
      ]
     },
     "execution_count": 32,
     "metadata": {},
     "output_type": "execute_result"
    },
    {
     "data": {
      "image/png": "[encoded data removed]",
      "text/plain": [
       "<Figure size 800x600 with 1 Axes>"
      ]
     },
     "metadata": {
      "needs_background": "light"
     },
     "output_type": "display_data"
    }
   ],
   "source": [
    "eye_height_full = 1.73 #z\n",
    "eye_point_full = 2.65 #y\n",
    "vru_selected=[1,3]\n",
    "vehicle_width = 1.38+.57 #eyepoint to pass window + x\n",
    "vehicle_D = 1\n",
    "\n",
    "viz_overhead(df.lon*100, df.lat*100, eye_height_full, \n",
    "                 eye_point_full, vru_selected, vehicle_width, vehicle_D)"
   ]
  },
  {
   "cell_type": "code",
   "execution_count": 33,
   "id": "141be6fb",
   "metadata": {
    "scrolled": true
   },
   "outputs": [
    {
     "name": "stdout",
     "output_type": "stream",
     "text": [
      "5.413386\n",
      "8.1364832\n",
      "r [ 8.05511812  8.084886    8.07377268  8.12005585  8.09180293 12.21162745\n",
      " 12.51580889 12.63963178 12.83640167 13.06610077 13.36035225 13.48280132\n",
      " 13.77306613 14.67734209 15.97461676 16.71079565 17.88288691 18.0182821\n",
      " 19.67360905 22.29184667 26.56943737 32.25815741 38.10545012 42.62779986\n",
      " 45.94290194 47.22267571 47.94792759 47.41123552 45.15220869 42.21345914\n",
      " 40.73444327 40.49086814 39.32486371 37.82745398 37.39489529 37.0722157\n",
      " 30.99567576 24.43430977 24.39103208 20.66019447 20.52158378 20.57194405\n",
      " 22.16065067 24.2359065  26.95257857 29.05214768 31.52916488 34.65256394\n",
      " 65.58045987 65.70604811 58.65163743 46.03394831 39.11715133 34.25787266\n",
      " 32.96852916 32.58280242 29.45402303 27.6710084  27.83207334 26.11144808\n",
      " 25.0546534  25.2462127  23.54437625 23.98932907 23.60714849 24.81085201\n",
      " 25.61829846 25.98686837 26.07472086 29.14190381 29.45342794 29.63207994\n",
      " 30.3377547  30.6271248  30.89043012 31.57141999 32.44419411 32.5689283\n",
      " 32.56291018 32.52329451 32.39103182 32.06345305 32.51152262 32.46789059\n",
      " 32.42141858 32.10873379 32.17219434 32.26908563 33.20866363 33.13717305\n",
      " 32.50835722 33.50726018 33.07665584 32.95199749 33.16854824 33.65879374\n",
      " 34.58501038 34.98842727 34.83168936 35.16813243 35.08109085 38.41591445\n",
      " 46.53164862 47.08792077 49.8986061  53.91848922 62.00234467 65.64967128\n",
      " 65.58472308 50.99878207 49.01551727 46.5707381  39.41506688 38.65826775\n",
      " 38.0488742  38.00426236 65.9198779  65.49673407 44.52471908 37.18565771\n",
      " 30.84638614 29.42480513 26.01307641 24.27343967 19.853569   19.79784833\n",
      " 19.30051674 18.86727769 18.53978006 18.41884853 18.20320202 18.13869092\n",
      " 18.629776   19.19946848 20.16295417 20.97288948 21.06787606 21.21468978\n",
      " 21.35066679 21.72149994 21.69879885 21.51065566 21.55220726 21.32764463\n",
      " 21.26803167 21.17880791 20.84186355  8.05511812]\n",
      "theta [3.14159265 2.94770674 2.94010085 2.89997521 2.88367253 2.61443874\n",
      " 2.60450439 2.61189269 2.63361534 2.64048645 2.65145332 2.65392554\n",
      " 2.66681249 2.68228359 2.68115973 2.68216832 2.68427911 2.68397908\n",
      " 2.68673055 2.68673205 2.68115901 2.66681938 2.65161254 2.62820872\n",
      " 2.6002975  2.57231691 2.54909991 2.5219843  2.48537248 2.45981898\n",
      " 2.45478983 2.44723512 2.43645846 2.41906089 2.43213371 2.42996572\n",
      " 2.4124785  2.4036656  2.40359754 2.26052471 2.24607907 2.23608749\n",
      " 2.22499263 2.21776023 2.21937588 2.22898104 2.24077895 2.25312712\n",
      " 2.30219318 2.07514546 2.06570416 2.05383663 2.0458431  2.07120392\n",
      " 2.04606423 2.03778074 2.0565235  2.02906194 2.0255662  2.03973718\n",
      " 2.01452588 2.00905567 2.02098909 2.00847773 1.9985993  1.9200486\n",
      " 1.89667365 1.88068926 1.87699663 1.67529318 1.65216794 1.6275815\n",
      " 1.55725631 1.4770989  1.45009438 1.42190381 1.40209334 1.38431409\n",
      " 1.37184767 1.35496345 1.3476955  1.28604529 1.24222622 1.2063097\n",
      " 1.17458927 1.14895433 1.07653794 1.04750378 1.06101484 1.04750679\n",
      " 1.02403335 1.02866906 1.00662245 0.99226276 0.96346811 0.93413986\n",
      " 0.90681285 0.88439386 0.86717819 0.84191501 0.82454375 0.74628018\n",
      " 0.71208836 0.70968051 0.70727198 0.69529142 0.68341897 0.67555654\n",
      " 0.50422743 0.53408884 0.54650122 0.55892266 0.56307624 0.56120365\n",
      " 0.54915477 0.53100624 0.46048476 0.38202164 0.37224305 0.36867383\n",
      " 0.36589629 0.3651117  0.36748895 0.37849093 0.2986508  0.30964486\n",
      " 0.33003962 0.35678021 0.35777443 0.35088176 0.34829057 0.32930645\n",
      " 0.31332455 0.29014412 0.26607794 0.23669617 0.22578686 0.21190558\n",
      " 0.19787171 0.17193008 0.15063417 0.15305751 0.12760828 0.12567154\n",
      " 0.15647276 0.17861619 0.         3.14159265]\n",
      "vru_nvp_areas [2119.235810923261]\n",
      "[900]\n",
      "r_sorted [30.3377547]\n",
      "r_sorted_min 30.337754695614738\n",
      "r_vru_nvp 17.26126351435264\n",
      "distance from eye to hood: 8.1364832\n",
      "distance from eye to pre-school child: 17.26126351435264\n",
      "The closest forward-visible pre-school child is 9.12ft in front of the vehicle.\n",
      "[900, 379]\n",
      "r_sorted [30.3377547]\n",
      "r_sorted_min 30.337754695614738\n",
      "r_vru_nvp 13.05810563466125\n",
      "distance from eye to hood: 8.1364832\n",
      "distance from eye to elementary school child: 13.05810563466125\n",
      "The closest forward-visible elementary school child is 4.92ft in front of the vehicle.\n"
     ]
    },
    {
     "data": {
      "text/plain": [
       "([9.12, 4.92], [900, 379])"
      ]
     },
     "execution_count": 33,
     "metadata": {},
     "output_type": "execute_result"
    },
    {
     "data": {
      "image/png": "[encoded data removed]",
      "text/plain": [
       "<Figure size 800x600 with 1 Axes>"
      ]
     },
     "metadata": {
      "needs_background": "light"
     },
     "output_type": "display_data"
    }
   ],
   "source": [
    "# Set filepath\n",
    "datafile = r\"C:\\Users\\Eric.Englin\\DOT OST\\VIEW - MassDOT\\Data Collection\\shapefiles\\Ford_F350_2017.shp\"\n",
    "\n",
    "# Read file using gpd.read_file()\n",
    "data = gpd.read_file(datafile)\n",
    "poly_mapped = mapping(data)\n",
    "poly_coordinates = poly_mapped['features'][0]['geometry']['coordinates'][0]\n",
    "#coords = [coords[0,1] for coords in poly_coordinates]\n",
    "lats = [coords[1] for coords in poly_coordinates]\n",
    "lons = [coords[0] for coords in poly_coordinates]\n",
    "\n",
    "df = pd.DataFrame({\n",
    "    'lat':lats,\n",
    "    'lon':lons})\n",
    "\n",
    "eye_height_full = 1.65 #z\n",
    "eye_point_full = 2.48 #y\n",
    "vru_selected=[1,3]\n",
    "vehicle_width = 1.39+.61 #eyepoint to pass window + x\n",
    "vehicle_D = 1\n",
    "\n",
    "viz_overhead(df.lon*100, df.lat*100, eye_height_full, \n",
    "                 eye_point_full, vru_selected, vehicle_width, vehicle_D)"
   ]
  },
  {
   "cell_type": "code",
   "execution_count": 34,
   "id": "f0f4d3d6",
   "metadata": {},
   "outputs": [
    {
     "data": {
      "text/plain": [
       "0.03490658503988659"
      ]
     },
     "execution_count": 34,
     "metadata": {},
     "output_type": "execute_result"
    }
   ],
   "source": [
    "mth.radians(2)"
   ]
  },
  {
   "cell_type": "code",
   "execution_count": 35,
   "id": "b7fac882",
   "metadata": {},
   "outputs": [
    {
     "data": {
      "text/plain": [
       "1.5707963267948966"
      ]
     },
     "execution_count": 35,
     "metadata": {},
     "output_type": "execute_result"
    }
   ],
   "source": [
    "(mth.pi/2)"
   ]
  }
 ],
 "metadata": {
  "kernelspec": {
   "display_name": "geo_env",
   "language": "python",
   "name": "geo_env"
  },
  "language_info": {
   "codemirror_mode": {
    "name": "ipython",
    "version": 3
   },
   "file_extension": ".py",
   "mimetype": "text/x-python",
   "name": "python",
   "nbconvert_exporter": "python",
   "pygments_lexer": "ipython3",
   "version": "3.10.4"
  }
 },
 "nbformat": 4,
 "nbformat_minor": 5
}
