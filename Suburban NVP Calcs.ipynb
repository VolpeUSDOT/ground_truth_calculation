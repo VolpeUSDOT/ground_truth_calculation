{
 "cells": [
  {
   "cell_type": "code",
   "execution_count": 1,
   "id": "5ce8c394",
   "metadata": {},
   "outputs": [],
   "source": [
    "# Import necessary modules\n",
    "import geopandas as gpd\n",
    "from shapely.geometry import Polygon, mapping\n",
    "import json\n",
    "import pandas as pd\n",
    "import math\n",
    "import matplotlib.pyplot as plt\n",
    "import numpy as np\n",
    "\n",
    "from helper_functions import cart_to_polar, get_intersection\n",
    "from data_processing import load_data, plot_data, get_left_and_right_bound, trim_datasets\n",
    "from helper_functions import get_area, get_distance\n"
   ]
  },
  {
   "cell_type": "code",
   "execution_count": 2,
   "id": "92db5f17",
   "metadata": {},
   "outputs": [],
   "source": [
    "# Set filepath\n",
    "suburban = \"Data/Suburban 2006.shp\"\n",
    "\n",
    "# Read file using gpd.read_file()\n",
    "data = gpd.read_file(suburban)\n"
   ]
  },
  {
   "cell_type": "code",
   "execution_count": 3,
   "id": "effbc983",
   "metadata": {},
   "outputs": [],
   "source": [
    "poly_mapped = mapping(data)\n",
    "poly_coordinates = poly_mapped['features'][0]['geometry']['coordinates'][0]\n",
    "#coords = [coords[0,1] for coords in poly_coordinates]\n",
    "lats = [coords[1] for coords in poly_coordinates]\n",
    "lons = [coords[0] for coords in poly_coordinates]\n",
    "\n",
    "df = pd.DataFrame({\n",
    "    'lat':lats,\n",
    "    'lon':lons})\n"
   ]
  },
  {
   "cell_type": "code",
   "execution_count": 4,
   "id": "5f8a4c9f",
   "metadata": {
    "scrolled": true
   },
   "outputs": [],
   "source": [
    "df_np = df.to_numpy()"
   ]
  },
  {
   "cell_type": "code",
   "execution_count": 5,
   "id": "e0f85172",
   "metadata": {},
   "outputs": [],
   "source": [
    "degree_list = []\n",
    "distance_list = []\n",
    "for x in range(len(df)):\n",
    "    lat=(df['lat'][x])\n",
    "    lon=(df['lon'][x])\n",
    "    hyp = math.hypot(lat, lon)\n",
    "    if lon >0:\n",
    "        degree = 90- math.degrees(math.atan(lat/lon))\n",
    "    else:\n",
    "        degree = -90+ math.degrees(math.atan(lat/-lon))\n",
    "    degree_list.append(degree)\n",
    "    distance_list.append(hyp)\n",
    "    \n",
    "\n",
    "df['distance'] = distance_list \n",
    "df['degree']=degree_list"
   ]
  },
  {
   "cell_type": "code",
   "execution_count": 6,
   "id": "9fc4de95",
   "metadata": {},
   "outputs": [
    {
     "data": {
      "text/plain": [
       "<matplotlib.collections.PathCollection at 0x1e077922c20>"
      ]
     },
     "execution_count": 6,
     "metadata": {},
     "output_type": "execute_result"
    },
    {
     "data": {
      "image/png": "[encoded data removed]",
      "text/plain": [
       "<Figure size 432x288 with 1 Axes>"
      ]
     },
     "metadata": {
      "needs_background": "light"
     },
     "output_type": "display_data"
    }
   ],
   "source": [
    "plt.scatter(df.degree, df.distance)"
   ]
  },
  {
   "cell_type": "code",
   "execution_count": 10,
   "id": "786104d7",
   "metadata": {},
   "outputs": [],
   "source": [
    "val =0\n",
    "dist = np.average(df.loc[(df['degree']>val-1)&(df['degree']<val+1)]['distance'])\n",
    "z = 1.58"
   ]
  },
  {
   "cell_type": "code",
   "execution_count": 14,
   "id": "d89fb73e",
   "metadata": {},
   "outputs": [],
   "source": [
    "angle = math.degrees(math.atan(z/dist))\n",
    "other_angle = 90-angle\n"
   ]
  },
  {
   "cell_type": "code",
   "execution_count": 18,
   "id": "10d7f87b",
   "metadata": {},
   "outputs": [
    {
     "data": {
      "text/plain": [
       "(12.964819004958393, 77.0351809950416)"
      ]
     },
     "execution_count": 18,
     "metadata": {},
     "output_type": "execute_result"
    }
   ],
   "source": [
    "angle, other_angle"
   ]
  },
  {
   "cell_type": "code",
   "execution_count": 34,
   "id": "3bf9c00d",
   "metadata": {},
   "outputs": [
    {
     "name": "stdout",
     "output_type": "stream",
     "text": [
      "distance to an elementary school child is:  2.7807998554821935  meters\n",
      "distance to an adult is:  1.4568576562460605  meters\n"
     ]
    }
   ],
   "source": [
    "# Elementary School Child height: 5th percentile 7 yo female shoulder height of 37 inches (0.9398)\n",
    "# Adult height: 5th percentile adult female shoulder height of 49 inches (1.2446)\n",
    "# Elementary School Child on Bicycle: 5th percentile 7yo female shoulder height on bicycle ()\n",
    "# Adult on Bicycle: 5th percentile adult female shoulder height on bicycle\n",
    "\n",
    "elem_child_height = 0.9398\n",
    "adult_height = 1.2446\n",
    "\n",
    "dist_elem_child = (dist - elem_child_height * math.sin(math.radians(other_angle)) / math.sin(math.radians(angle)))\n",
    "print(\"distance to an elementary school child is: \", dist_elem_child, \" meters\")\n",
    "\n",
    "dist_adult = dist - (adult_height * math.sin(math.radians(other_angle)) / math.sin(math.radians(angle)))\n",
    "print(\"distance to an adult is: \", dist_adult, \" meters\")"
   ]
  },
  {
   "cell_type": "code",
   "execution_count": 43,
   "id": "0254a09c",
   "metadata": {},
   "outputs": [
    {
     "name": "stdout",
     "output_type": "stream",
     "text": [
      "-10\n",
      "distance to an elementary school child is:  8.216730521993709  feet\n",
      "distance to an adult is:  4.304735109460623  feet\n",
      "0\n",
      "distance to an elementary school child is:  9.1233593978602  feet\n",
      "distance to an adult is:  4.779716872918325  feet\n",
      "10\n",
      "distance to an elementary school child is:  9.54147435784965  feet\n",
      "distance to an adult is:  4.998766791038386  feet\n",
      "20\n",
      "distance to an elementary school child is:  10.10356392913494  feet\n",
      "distance to an adult is:  5.293244832602091  feet\n",
      "30\n",
      "distance to an elementary school child is:  10.067229786340828  feet\n",
      "distance to an adult is:  5.274209419460661  feet\n",
      "40\n",
      "distance to an elementary school child is:  9.986266093487052  feet\n",
      "distance to an adult is:  5.2317926394182415  feet\n"
     ]
    }
   ],
   "source": [
    "z = 1.58\n",
    "for val in range(-10, 50, 10):\n",
    "    print(val)\n",
    "    dist = np.average(df.loc[(df['degree']>val-1)&(df['degree']<val+1)]['distance'])\n",
    "    angle = math.degrees(math.atan(z/dist))\n",
    "    other_angle = 90-angle\n",
    "    dist_elem_child = (dist - elem_child_height * math.sin(math.radians(other_angle)) / math.sin(math.radians(angle)))*3.28084\n",
    "    print(\"distance to an elementary school child is: \", dist_elem_child, \" feet\")\n",
    "\n",
    "    dist_adult = (dist - (adult_height * math.sin(math.radians(other_angle)) / math.sin(math.radians(angle))))*3.28084\n",
    "    print(\"distance to an adult is: \", dist_adult, \" feet\")\n"
   ]
  },
  {
   "cell_type": "code",
   "execution_count": null,
   "id": "aa02b239",
   "metadata": {},
   "outputs": [],
   "source": [
    "# x = 52\n",
    "# y = -235\n",
    "# z = 158\n",
    "\n",
    "# height of elementary school child = 0.6858"
   ]
  },
  {
   "cell_type": "code",
   "execution_count": 8,
   "id": "92a2e9ed",
   "metadata": {},
   "outputs": [
    {
     "data": {
      "text/html": [
       "<div>\n",
       "<style scoped>\n",
       "    .dataframe tbody tr th:only-of-type {\n",
       "        vertical-align: middle;\n",
       "    }\n",
       "\n",
       "    .dataframe tbody tr th {\n",
       "        vertical-align: top;\n",
       "    }\n",
       "\n",
       "    .dataframe thead th {\n",
       "        text-align: right;\n",
       "    }\n",
       "</style>\n",
       "<table border=\"1\" class=\"dataframe\">\n",
       "  <thead>\n",
       "    <tr style=\"text-align: right;\">\n",
       "      <th></th>\n",
       "      <th>lat</th>\n",
       "      <th>lon</th>\n",
       "      <th>distance</th>\n",
       "      <th>degree</th>\n",
       "    </tr>\n",
       "  </thead>\n",
       "  <tbody>\n",
       "    <tr>\n",
       "      <th>5</th>\n",
       "      <td>0.0000</td>\n",
       "      <td>-1.6838</td>\n",
       "      <td>1.683800</td>\n",
       "      <td>-90.000000</td>\n",
       "    </tr>\n",
       "    <tr>\n",
       "      <th>7</th>\n",
       "      <td>1.7912</td>\n",
       "      <td>-1.6586</td>\n",
       "      <td>2.441178</td>\n",
       "      <td>-42.798805</td>\n",
       "    </tr>\n",
       "    <tr>\n",
       "      <th>6</th>\n",
       "      <td>1.8103</td>\n",
       "      <td>-1.6503</td>\n",
       "      <td>2.449628</td>\n",
       "      <td>-42.352829</td>\n",
       "    </tr>\n",
       "    <tr>\n",
       "      <th>8</th>\n",
       "      <td>2.4690</td>\n",
       "      <td>-1.8910</td>\n",
       "      <td>3.109959</td>\n",
       "      <td>-37.448400</td>\n",
       "    </tr>\n",
       "    <tr>\n",
       "      <th>9</th>\n",
       "      <td>2.4703</td>\n",
       "      <td>-1.8976</td>\n",
       "      <td>3.115007</td>\n",
       "      <td>-37.530238</td>\n",
       "    </tr>\n",
       "    <tr>\n",
       "      <th>...</th>\n",
       "      <td>...</td>\n",
       "      <td>...</td>\n",
       "      <td>...</td>\n",
       "      <td>...</td>\n",
       "    </tr>\n",
       "    <tr>\n",
       "      <th>58</th>\n",
       "      <td>18.9446</td>\n",
       "      <td>-6.1566</td>\n",
       "      <td>19.919879</td>\n",
       "      <td>-18.003081</td>\n",
       "    </tr>\n",
       "    <tr>\n",
       "      <th>180</th>\n",
       "      <td>6.9526</td>\n",
       "      <td>18.7447</td>\n",
       "      <td>19.992559</td>\n",
       "      <td>69.649670</td>\n",
       "    </tr>\n",
       "    <tr>\n",
       "      <th>179</th>\n",
       "      <td>9.1840</td>\n",
       "      <td>17.7604</td>\n",
       "      <td>19.994441</td>\n",
       "      <td>62.656268</td>\n",
       "    </tr>\n",
       "    <tr>\n",
       "      <th>57</th>\n",
       "      <td>18.3196</td>\n",
       "      <td>-8.0149</td>\n",
       "      <td>19.996159</td>\n",
       "      <td>-23.629575</td>\n",
       "    </tr>\n",
       "    <tr>\n",
       "      <th>56</th>\n",
       "      <td>16.9887</td>\n",
       "      <td>-10.5726</td>\n",
       "      <td>20.009893</td>\n",
       "      <td>-31.895298</td>\n",
       "    </tr>\n",
       "  </tbody>\n",
       "</table>\n",
       "<p>221 rows × 4 columns</p>\n",
       "</div>"
      ],
      "text/plain": [
       "         lat      lon   distance     degree\n",
       "5     0.0000  -1.6838   1.683800 -90.000000\n",
       "7     1.7912  -1.6586   2.441178 -42.798805\n",
       "6     1.8103  -1.6503   2.449628 -42.352829\n",
       "8     2.4690  -1.8910   3.109959 -37.448400\n",
       "9     2.4703  -1.8976   3.115007 -37.530238\n",
       "..       ...      ...        ...        ...\n",
       "58   18.9446  -6.1566  19.919879 -18.003081\n",
       "180   6.9526  18.7447  19.992559  69.649670\n",
       "179   9.1840  17.7604  19.994441  62.656268\n",
       "57   18.3196  -8.0149  19.996159 -23.629575\n",
       "56   16.9887 -10.5726  20.009893 -31.895298\n",
       "\n",
       "[221 rows x 4 columns]"
      ]
     },
     "execution_count": 8,
     "metadata": {},
     "output_type": "execute_result"
    }
   ],
   "source": [
    "df.sort_values('distance')"
   ]
  },
  {
   "cell_type": "code",
   "execution_count": 9,
   "id": "838ad54f",
   "metadata": {},
   "outputs": [
    {
     "data": {
      "text/html": [
       "<div>\n",
       "<style scoped>\n",
       "    .dataframe tbody tr th:only-of-type {\n",
       "        vertical-align: middle;\n",
       "    }\n",
       "\n",
       "    .dataframe tbody tr th {\n",
       "        vertical-align: top;\n",
       "    }\n",
       "\n",
       "    .dataframe thead th {\n",
       "        text-align: right;\n",
       "    }\n",
       "</style>\n",
       "<table border=\"1\" class=\"dataframe\">\n",
       "  <thead>\n",
       "    <tr style=\"text-align: right;\">\n",
       "      <th></th>\n",
       "      <th>lat</th>\n",
       "      <th>lon</th>\n",
       "      <th>distance</th>\n",
       "      <th>degree</th>\n",
       "    </tr>\n",
       "  </thead>\n",
       "  <tbody>\n",
       "    <tr>\n",
       "      <th>13</th>\n",
       "      <td>2.5525</td>\n",
       "      <td>-2.1190</td>\n",
       "      <td>3.317441</td>\n",
       "      <td>-39.698321</td>\n",
       "    </tr>\n",
       "    <tr>\n",
       "      <th>12</th>\n",
       "      <td>2.5522</td>\n",
       "      <td>-2.0774</td>\n",
       "      <td>3.290793</td>\n",
       "      <td>-39.144363</td>\n",
       "    </tr>\n",
       "    <tr>\n",
       "      <th>11</th>\n",
       "      <td>2.5274</td>\n",
       "      <td>-2.0205</td>\n",
       "      <td>3.235764</td>\n",
       "      <td>-38.640174</td>\n",
       "    </tr>\n",
       "    <tr>\n",
       "      <th>44</th>\n",
       "      <td>4.8931</td>\n",
       "      <td>-3.9094</td>\n",
       "      <td>6.263053</td>\n",
       "      <td>-38.623519</td>\n",
       "    </tr>\n",
       "    <tr>\n",
       "      <th>10</th>\n",
       "      <td>2.5033</td>\n",
       "      <td>-1.9654</td>\n",
       "      <td>3.182657</td>\n",
       "      <td>-38.136296</td>\n",
       "    </tr>\n",
       "    <tr>\n",
       "      <th>...</th>\n",
       "      <td>...</td>\n",
       "      <td>...</td>\n",
       "      <td>...</td>\n",
       "      <td>...</td>\n",
       "    </tr>\n",
       "    <tr>\n",
       "      <th>220</th>\n",
       "      <td>1.2570</td>\n",
       "      <td>5.4562</td>\n",
       "      <td>5.599122</td>\n",
       "      <td>77.026552</td>\n",
       "    </tr>\n",
       "    <tr>\n",
       "      <th>1</th>\n",
       "      <td>1.0047</td>\n",
       "      <td>5.4594</td>\n",
       "      <td>5.551078</td>\n",
       "      <td>79.572462</td>\n",
       "    </tr>\n",
       "    <tr>\n",
       "      <th>2</th>\n",
       "      <td>0.7624</td>\n",
       "      <td>5.4647</td>\n",
       "      <td>5.517626</td>\n",
       "      <td>82.057724</td>\n",
       "    </tr>\n",
       "    <tr>\n",
       "      <th>3</th>\n",
       "      <td>0.5903</td>\n",
       "      <td>5.4301</td>\n",
       "      <td>5.462091</td>\n",
       "      <td>83.795804</td>\n",
       "    </tr>\n",
       "    <tr>\n",
       "      <th>4</th>\n",
       "      <td>0.0000</td>\n",
       "      <td>5.4780</td>\n",
       "      <td>5.478000</td>\n",
       "      <td>90.000000</td>\n",
       "    </tr>\n",
       "  </tbody>\n",
       "</table>\n",
       "<p>188 rows × 4 columns</p>\n",
       "</div>"
      ],
      "text/plain": [
       "        lat     lon  distance     degree\n",
       "13   2.5525 -2.1190  3.317441 -39.698321\n",
       "12   2.5522 -2.0774  3.290793 -39.144363\n",
       "11   2.5274 -2.0205  3.235764 -38.640174\n",
       "44   4.8931 -3.9094  6.263053 -38.623519\n",
       "10   2.5033 -1.9654  3.182657 -38.136296\n",
       "..      ...     ...       ...        ...\n",
       "220  1.2570  5.4562  5.599122  77.026552\n",
       "1    1.0047  5.4594  5.551078  79.572462\n",
       "2    0.7624  5.4647  5.517626  82.057724\n",
       "3    0.5903  5.4301  5.462091  83.795804\n",
       "4    0.0000  5.4780  5.478000  90.000000\n",
       "\n",
       "[188 rows x 4 columns]"
      ]
     },
     "execution_count": 9,
     "metadata": {},
     "output_type": "execute_result"
    }
   ],
   "source": [
    "df.loc[(df['degree']>-40)].sort_values('degree')"
   ]
  },
  {
   "cell_type": "code",
   "execution_count": 14,
   "id": "5daa676d",
   "metadata": {},
   "outputs": [
    {
     "data": {
      "text/html": [
       "<div>\n",
       "<style scoped>\n",
       "    .dataframe tbody tr th:only-of-type {\n",
       "        vertical-align: middle;\n",
       "    }\n",
       "\n",
       "    .dataframe tbody tr th {\n",
       "        vertical-align: top;\n",
       "    }\n",
       "\n",
       "    .dataframe thead th {\n",
       "        text-align: right;\n",
       "    }\n",
       "</style>\n",
       "<table border=\"1\" class=\"dataframe\">\n",
       "  <thead>\n",
       "    <tr style=\"text-align: right;\">\n",
       "      <th></th>\n",
       "      <th>lat</th>\n",
       "      <th>lon</th>\n",
       "      <th>distance</th>\n",
       "      <th>degree</th>\n",
       "    </tr>\n",
       "  </thead>\n",
       "  <tbody>\n",
       "    <tr>\n",
       "      <th>5</th>\n",
       "      <td>0.0000</td>\n",
       "      <td>-1.6838</td>\n",
       "      <td>1.683800</td>\n",
       "      <td>-0.000000</td>\n",
       "    </tr>\n",
       "    <tr>\n",
       "      <th>101</th>\n",
       "      <td>6.8700</td>\n",
       "      <td>0.0602</td>\n",
       "      <td>6.870264</td>\n",
       "      <td>0.502055</td>\n",
       "    </tr>\n",
       "    <tr>\n",
       "      <th>102</th>\n",
       "      <td>6.8795</td>\n",
       "      <td>0.1682</td>\n",
       "      <td>6.881556</td>\n",
       "      <td>1.400571</td>\n",
       "    </tr>\n",
       "    <tr>\n",
       "      <th>103</th>\n",
       "      <td>6.8883</td>\n",
       "      <td>0.2694</td>\n",
       "      <td>6.893566</td>\n",
       "      <td>2.239685</td>\n",
       "    </tr>\n",
       "    <tr>\n",
       "      <th>104</th>\n",
       "      <td>6.8966</td>\n",
       "      <td>0.3639</td>\n",
       "      <td>6.906194</td>\n",
       "      <td>3.020418</td>\n",
       "    </tr>\n",
       "    <tr>\n",
       "      <th>105</th>\n",
       "      <td>6.9350</td>\n",
       "      <td>0.4671</td>\n",
       "      <td>6.950713</td>\n",
       "      <td>3.853280</td>\n",
       "    </tr>\n",
       "  </tbody>\n",
       "</table>\n",
       "</div>"
      ],
      "text/plain": [
       "        lat     lon  distance    degree\n",
       "5    0.0000 -1.6838  1.683800 -0.000000\n",
       "101  6.8700  0.0602  6.870264  0.502055\n",
       "102  6.8795  0.1682  6.881556  1.400571\n",
       "103  6.8883  0.2694  6.893566  2.239685\n",
       "104  6.8966  0.3639  6.906194  3.020418\n",
       "105  6.9350  0.4671  6.950713  3.853280"
      ]
     },
     "execution_count": 14,
     "metadata": {},
     "output_type": "execute_result"
    }
   ],
   "source": [
    "df.loc[(df['degree']>-30)&(df['degree']<4)]"
   ]
  },
  {
   "cell_type": "code",
   "execution_count": null,
   "id": "b7fac882",
   "metadata": {},
   "outputs": [],
   "source": []
  }
 ],
 "metadata": {
  "kernelspec": {
   "display_name": "geo_env",
   "language": "python",
   "name": "geo_env"
  },
  "language_info": {
   "codemirror_mode": {
    "name": "ipython",
    "version": 3
   },
   "file_extension": ".py",
   "mimetype": "text/x-python",
   "name": "python",
   "nbconvert_exporter": "python",
   "pygments_lexer": "ipython3",
   "version": "3.10.4"
  }
 },
 "nbformat": 4,
 "nbformat_minor": 5
}
